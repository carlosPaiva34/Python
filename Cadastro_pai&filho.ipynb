{
 "cells": [
  {
   "cell_type": "code",
   "execution_count": 3,
   "id": "31353588",
   "metadata": {},
   "outputs": [
    {
     "name": "stdout",
     "output_type": "stream",
     "text": [
      "['SQL Server', 'SQL Server Native Client RDA 11.0', 'ODBC Driver 17 for SQL Server', 'MySQL ODBC 8.0 ANSI Driver', 'MySQL ODBC 8.0 Unicode Driver', 'Microsoft Access Driver (*.mdb, *.accdb)', 'Microsoft Excel Driver (*.xls, *.xlsx, *.xlsm, *.xlsb)', 'Microsoft Access dBASE Driver (*.dbf, *.ndx, *.mdx)', 'Microsoft Access Text Driver (*.txt, *.csv)']\n"
     ]
    }
   ],
   "source": [
    "import pyodbc\n",
    "\n",
    "print(pyodbc.drivers())"
   ]
  },
  {
   "cell_type": "code",
   "execution_count": 4,
   "id": "e7b46367",
   "metadata": {},
   "outputs": [],
   "source": [
    "\n",
    "server = 'MJOLNIR\\MCLASS'\n",
    "database = 'familia2'\n",
    "username = 'sa'\n",
    "password = 'C@rl0s1985'\n",
    "\n",
    "cnxn = pyodbc.connect('DRIVER={SQL Server};SERVER='+server+';DATABASE='+database+';UID='+username+';PWD='+ password)\n",
    "cursor = cnxn.cursor()"
   ]
  },
  {
   "cell_type": "code",
   "execution_count": 114,
   "id": "521a5b89",
   "metadata": {},
   "outputs": [],
   "source": [
    "def save_FatherAndSon(nome_pai,nome_filho):\n",
    "    cursor.execute('INSERT INTO pai (nome) VALUES (?)', nome_pai)\n",
    "    cursor.commit()\n",
    "    cursor.execute('select max(id) from pai')\n",
    "    ultimo=cursor.fetchone()\n",
    "    id=int(ultimo[0])\n",
    "    cursor.execute('INSERT INTO filho (nome,fk_pai) VALUES (?,?)', nome_filho,id)\n",
    "    cursor.commit()\n",
    "\n",
    "    \n",
    "def findFatherId(id):\n",
    "    cursor.execute('select * from pai where id=?',id)\n",
    "    row=cursor.fetchone()\n",
    "    if row: \n",
    "        return {'id: ':row[0],'Nome: ':row[1]}\n",
    "    else: \n",
    "        return 'Não existe esse Id: '+str(id)\n",
    "\n",
    "def findAll():\n",
    "    cursor.execute('select * from pai')\n",
    "    return list(cursor.fetchall())\n",
    "\n",
    "def updateFather(nome,id):\n",
    "    cursor.execute(\"update pai set nome= ? where id=?\",nome,id) \n",
    "    cursor.commit()\n",
    "    return print('Registro atualizado com sucesso!! \\nNome: '+nome+'\\nID: '+str(id))\n"
   ]
  },
  {
   "cell_type": "code",
   "execution_count": 115,
   "id": "b63ac7ee",
   "metadata": {},
   "outputs": [
    {
     "name": "stdout",
     "output_type": "stream",
     "text": [
      "(9, 'Carlos')\n",
      "(10, 'Thiago Paiva')\n",
      "(11, 'Roberto Carlos')\n"
     ]
    }
   ],
   "source": [
    "for linha in findAll():\n",
    "    print(linha)"
   ]
  },
  {
   "cell_type": "code",
   "execution_count": 116,
   "id": "06cf81d0",
   "metadata": {},
   "outputs": [
    {
     "data": {
      "text/plain": [
       "'Não existe esse Id: 2'"
      ]
     },
     "execution_count": 116,
     "metadata": {},
     "output_type": "execute_result"
    }
   ],
   "source": [
    "findId(2)\n"
   ]
  },
  {
   "cell_type": "code",
   "execution_count": 117,
   "id": "1690cb04",
   "metadata": {},
   "outputs": [
    {
     "name": "stdout",
     "output_type": "stream",
     "text": [
      "Registro atualizado com sucesso!! \n",
      "Nome: Carlos\n",
      "ID: 9\n"
     ]
    }
   ],
   "source": [
    "updateFather('Carlos',9)"
   ]
  },
  {
   "cell_type": "code",
   "execution_count": null,
   "id": "2ef7cb4f",
   "metadata": {},
   "outputs": [],
   "source": []
  },
  {
   "cell_type": "code",
   "execution_count": null,
   "id": "c45886c9",
   "metadata": {},
   "outputs": [],
   "source": []
  }
 ],
 "metadata": {
  "kernelspec": {
   "display_name": "Python 3 (ipykernel)",
   "language": "python",
   "name": "python3"
  },
  "language_info": {
   "codemirror_mode": {
    "name": "ipython",
    "version": 3
   },
   "file_extension": ".py",
   "mimetype": "text/x-python",
   "name": "python",
   "nbconvert_exporter": "python",
   "pygments_lexer": "ipython3",
   "version": "3.9.13"
  }
 },
 "nbformat": 4,
 "nbformat_minor": 5
}
